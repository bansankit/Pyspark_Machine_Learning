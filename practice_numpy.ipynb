{
 "cells": [
  {
   "cell_type": "code",
   "execution_count": 39,
   "metadata": {
    "collapsed": false
   },
   "outputs": [
    {
     "data": {
      "text/plain": [
       "numpy.ndarray"
      ]
     },
     "execution_count": 39,
     "metadata": {},
     "output_type": "execute_result"
    }
   ],
   "source": [
    "import numpy as np\n",
    "'''%timeit \n",
    "np2 = np.random.random_sample(10)\n",
    "np2\n",
    "help(np.random.randint)\n",
    "'''\n",
    "np4 = np.arange(20)\n",
    "np5 = np.arange(20,40)\n",
    "np5\n",
    "np5 - np4\n",
    "npp = np4*np5\n",
    "npp\n",
    "npp.reshape(5,4)\n",
    "mp = np.array(range(10))\n",
    "type(mp)\n",
    "type(np4)\n",
    "mp.size\n",
    "np4.size\n",
    "#data type\n",
    "np4.dtype\n",
    "type(np4)\n",
    "#np4 * 2\n",
    "#np3 = np.array([])\n",
    "#help(np.amin)\n",
    "#np.max(np4)\n",
    "#np.shape(np4)\n",
    "#type(np4)"
   ]
  },
  {
   "cell_type": "code",
   "execution_count": 19,
   "metadata": {
    "collapsed": false
   },
   "outputs": [
    {
     "data": {
      "text/plain": [
       "3.141592653589793"
      ]
     },
     "execution_count": 19,
     "metadata": {},
     "output_type": "execute_result"
    }
   ],
   "source": [
    "c = np.array([2,4,5,7,9])\n",
    "c\n",
    "np.pi"
   ]
  },
  {
   "cell_type": "code",
   "execution_count": 44,
   "metadata": {
    "collapsed": false
   },
   "outputs": [
    {
     "data": {
      "text/plain": [
       "array([0, 1, 2, 3, 4, 5, 6, 7, 8, 9])"
      ]
     },
     "execution_count": 44,
     "metadata": {},
     "output_type": "execute_result"
    }
   ],
   "source": [
    "#changes original x also\n",
    "x = np.arange(10)\n",
    "y = x\n",
    "y[2] = 100\n",
    "x\n",
    "#solution\n",
    "x= np.arange(10)\n",
    "z = x.copy()\n",
    "z[2] = 200\n",
    "x"
   ]
  },
  {
   "cell_type": "code",
   "execution_count": null,
   "metadata": {
    "collapsed": true
   },
   "outputs": [],
   "source": []
  }
 ],
 "metadata": {
  "kernelspec": {
   "display_name": "Python 3",
   "language": "python",
   "name": "python3"
  },
  "language_info": {
   "codemirror_mode": {
    "name": "ipython",
    "version": 3
   },
   "file_extension": ".py",
   "mimetype": "text/x-python",
   "name": "python",
   "nbconvert_exporter": "python",
   "pygments_lexer": "ipython3",
   "version": "3.6.0"
  }
 },
 "nbformat": 4,
 "nbformat_minor": 2
}
